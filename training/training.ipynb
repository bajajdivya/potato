{
 "cells": [
  {
   "cell_type": "code",
   "execution_count": 37,
   "id": "8468174b",
   "metadata": {},
   "outputs": [],
   "source": [
    "import tensorflow as tf\n",
    "from tensorflow.keras import models,layers"
   ]
  },
  {
   "cell_type": "code",
   "execution_count": null,
   "id": "feec27cc",
   "metadata": {},
   "outputs": [],
   "source": []
  },
  {
   "cell_type": "code",
   "execution_count": 38,
   "id": "d6c3d248",
   "metadata": {},
   "outputs": [],
   "source": [
    "import matplotlib.pyplot as plt\n",
    "IMAGE_SIZE = 256\n",
    "BATCH_SIZE = 32\n",
    "CHANNELS =3\n",
    "EPOCHS = 30"
   ]
  },
  {
   "cell_type": "code",
   "execution_count": 39,
   "id": "00f9dc7f",
   "metadata": {},
   "outputs": [
    {
     "name": "stdout",
     "output_type": "stream",
     "text": [
      "Found 2152 files belonging to 3 classes.\n"
     ]
    }
   ],
   "source": [
    "dataset = tf.keras.preprocessing.image_dataset_from_directory(\n",
    "\"PlantVillage\",\n",
    "shuffle = True,\n",
    "image_size = (IMAGE_SIZE,IMAGE_SIZE),\n",
    "batch_size = BATCH_SIZE\n",
    ")"
   ]
  },
  {
   "cell_type": "code",
   "execution_count": 40,
   "id": "375f7562",
   "metadata": {},
   "outputs": [
    {
     "data": {
      "text/plain": [
       "['Potato___Early_blight', 'Potato___Late_blight', 'Potato___healthy']"
      ]
     },
     "execution_count": 40,
     "metadata": {},
     "output_type": "execute_result"
    }
   ],
   "source": [
    "class_names = dataset.class_names\n",
    "class_names"
   ]
  },
  {
   "cell_type": "code",
   "execution_count": 41,
   "id": "99e92f41",
   "metadata": {},
   "outputs": [
    {
     "data": {
      "text/plain": [
       "68"
      ]
     },
     "execution_count": 41,
     "metadata": {},
     "output_type": "execute_result"
    }
   ],
   "source": [
    "len(dataset)"
   ]
  },
  {
   "cell_type": "code",
   "execution_count": 42,
   "id": "53c969f7",
   "metadata": {},
   "outputs": [
    {
     "data": {
      "text/plain": [
       "54"
      ]
     },
     "execution_count": 42,
     "metadata": {},
     "output_type": "execute_result"
    }
   ],
   "source": [
    "# for image_batch, label_batch in dataset.take(1):\n",
    "#   print (\"hi\")    \n",
    "train_ds = dataset.take(54)\n",
    "len(train_ds)"
   ]
  },
  {
   "cell_type": "code",
   "execution_count": 43,
   "id": "b3f5589d",
   "metadata": {},
   "outputs": [
    {
     "data": {
      "text/plain": [
       "14"
      ]
     },
     "execution_count": 43,
     "metadata": {},
     "output_type": "execute_result"
    }
   ],
   "source": [
    "test_ds = dataset.skip(54)\n",
    "len(test_ds)"
   ]
  },
  {
   "cell_type": "code",
   "execution_count": 44,
   "id": "49e537a5",
   "metadata": {},
   "outputs": [
    {
     "data": {
      "text/plain": [
       "6"
      ]
     },
     "execution_count": 44,
     "metadata": {},
     "output_type": "execute_result"
    }
   ],
   "source": [
    "val_ds = test_ds.take(6)\n",
    "len(val_ds)"
   ]
  },
  {
   "cell_type": "code",
   "execution_count": 45,
   "id": "50cd29e3",
   "metadata": {},
   "outputs": [
    {
     "data": {
      "text/plain": [
       "8"
      ]
     },
     "execution_count": 45,
     "metadata": {},
     "output_type": "execute_result"
    }
   ],
   "source": [
    "test_ds = test_ds.skip(6)\n",
    "len(test_ds)"
   ]
  },
  {
   "cell_type": "code",
   "execution_count": 46,
   "id": "f0b6c2a2",
   "metadata": {},
   "outputs": [],
   "source": [
    "def get_dataset_partitions_tf (ds, train_split=0.8, val_split=0.1, test_split =0.1, shuffle= True, shuffle_size = 10000):\n",
    "    ds_size = len(ds)\n",
    "    \n",
    "    if shuffle:\n",
    "        ds = ds.shuffle(shuffle_size, seed=12)\n",
    "        \n",
    "    train_size = int(train_split * ds_size)\n",
    "    val_size = int(val_split * ds_size)\n",
    "    \n",
    "    train_ds = ds.take(train_size)\n",
    "    \n",
    "    val_ds = ds.skip(train_size).take(val_size)\n",
    "    test_ds = ds.skip(train_size).skip(val_size)\n",
    "    \n",
    "    return train_ds, val_ds, test_ds"
   ]
  },
  {
   "cell_type": "code",
   "execution_count": 47,
   "id": "02756eb0",
   "metadata": {},
   "outputs": [],
   "source": [
    "train_ds = train_ds.cache().shuffle(1000).prefetch(buffer_size=tf.data.AUTOTUNE)\n",
    "val_ds = val_ds.cache().shuffle(1000).prefetch(buffer_size=tf.data.AUTOTUNE)\n",
    "test_ds = test_ds.cache().shuffle(1000).prefetch(buffer_size= tf.data.AUTOTUNE)"
   ]
  },
  {
   "cell_type": "code",
   "execution_count": 48,
   "id": "79e055e3",
   "metadata": {},
   "outputs": [],
   "source": [
    "resize_and_rescale = tf.keras.Sequential([\n",
    "    layers.experimental.preprocessing.Resizing(IMAGE_SIZE, IMAGE_SIZE),\n",
    "    layers.experimental.preprocessing.Rescaling(1.0/255) \n",
    " ])"
   ]
  },
  {
   "cell_type": "code",
   "execution_count": 49,
   "id": "1e970879",
   "metadata": {},
   "outputs": [],
   "source": [
    "data_augmentation = tf.keras.Sequential([\n",
    "    layers.experimental.preprocessing.RandomFlip(\"horizontal_and_vertical\"),\n",
    "    layers.experimental.preprocessing.RandomRotation(0.2),\n",
    "])"
   ]
  },
  {
   "cell_type": "code",
   "execution_count": 50,
   "id": "6d2338d9",
   "metadata": {},
   "outputs": [],
   "source": [
    "input_shape = (BATCH_SIZE, IMAGE_SIZE, IMAGE_SIZE , CHANNELS)\n",
    "n_classes = 3\n",
    "\n",
    "model = models.Sequential([\n",
    "    resize_and_rescale ,\n",
    "    data_augmentation,\n",
    "    layers.Conv2D(32,(3,3),activation ='relu', input_shape = input_shape),\n",
    "    layers.MaxPooling2D((2,2)),\n",
    "    layers.Conv2D(64, kernel_size =(3,3) ,activation = 'relu'),\n",
    "    layers.MaxPooling2D((2,2)),\n",
    "    layers.Conv2D(64, kernel_size =(3,3) ,activation = 'relu'),\n",
    "    layers.MaxPooling2D((2,2)),\n",
    "    layers.Conv2D(64, (3,3) ,activation = 'relu'),\n",
    "    layers.MaxPooling2D((2,2)),\n",
    "    layers.Conv2D(64, (3,3) ,activation = 'relu'),\n",
    "    layers.MaxPooling2D((2,2)),\n",
    "    layers.Conv2D(64, (3,3) ,activation = 'relu'),\n",
    "    layers.MaxPooling2D((2,2)),\n",
    "    layers.Flatten(),\n",
    "    layers.Dense(64, activation='relu'),\n",
    "    layers.Dense(n_classes, activation='softmax'),\n",
    "])\n",
    "\n",
    "model.build(input_shape = input_shape)"
   ]
  },
  {
   "cell_type": "code",
   "execution_count": 51,
   "id": "9fa498cd",
   "metadata": {},
   "outputs": [
    {
     "name": "stdout",
     "output_type": "stream",
     "text": [
      "Model: \"sequential_5\"\n",
      "_________________________________________________________________\n",
      " Layer (type)                Output Shape              Param #   \n",
      "=================================================================\n",
      " sequential_3 (Sequential)   (32, 256, 256, 3)         0         \n",
      "                                                                 \n",
      " sequential_4 (Sequential)   (32, 256, 256, 3)         0         \n",
      "                                                                 \n",
      " conv2d_6 (Conv2D)           (32, 254, 254, 32)        896       \n",
      "                                                                 \n",
      " max_pooling2d_6 (MaxPooling  (32, 127, 127, 32)       0         \n",
      " 2D)                                                             \n",
      "                                                                 \n",
      " conv2d_7 (Conv2D)           (32, 125, 125, 64)        18496     \n",
      "                                                                 \n",
      " max_pooling2d_7 (MaxPooling  (32, 62, 62, 64)         0         \n",
      " 2D)                                                             \n",
      "                                                                 \n",
      " conv2d_8 (Conv2D)           (32, 60, 60, 64)          36928     \n",
      "                                                                 \n",
      " max_pooling2d_8 (MaxPooling  (32, 30, 30, 64)         0         \n",
      " 2D)                                                             \n",
      "                                                                 \n",
      " conv2d_9 (Conv2D)           (32, 28, 28, 64)          36928     \n",
      "                                                                 \n",
      " max_pooling2d_9 (MaxPooling  (32, 14, 14, 64)         0         \n",
      " 2D)                                                             \n",
      "                                                                 \n",
      " conv2d_10 (Conv2D)          (32, 12, 12, 64)          36928     \n",
      "                                                                 \n",
      " max_pooling2d_10 (MaxPoolin  (32, 6, 6, 64)           0         \n",
      " g2D)                                                            \n",
      "                                                                 \n",
      " conv2d_11 (Conv2D)          (32, 4, 4, 64)            36928     \n",
      "                                                                 \n",
      " max_pooling2d_11 (MaxPoolin  (32, 2, 2, 64)           0         \n",
      " g2D)                                                            \n",
      "                                                                 \n",
      " flatten_1 (Flatten)         (32, 256)                 0         \n",
      "                                                                 \n",
      " dense_2 (Dense)             (32, 64)                  16448     \n",
      "                                                                 \n",
      " dense_3 (Dense)             (32, 3)                   195       \n",
      "                                                                 \n",
      "=================================================================\n",
      "Total params: 183,747\n",
      "Trainable params: 183,747\n",
      "Non-trainable params: 0\n",
      "_________________________________________________________________\n"
     ]
    }
   ],
   "source": [
    "model.summary()"
   ]
  },
  {
   "cell_type": "code",
   "execution_count": 52,
   "id": "46ba8ca6",
   "metadata": {},
   "outputs": [],
   "source": [
    "model.compile(\n",
    "   optimizer = 'adam',\n",
    "   loss = tf.keras.losses.SparseCategoricalCrossentropy(from_logits = False),\n",
    "   metrics = ['accuracy'])"
   ]
  },
  {
   "cell_type": "code",
   "execution_count": 53,
   "id": "db241387",
   "metadata": {},
   "outputs": [
    {
     "name": "stdout",
     "output_type": "stream",
     "text": [
      "Epoch 1/30\n",
      "54/54 [==============================] - 59s 1s/step - loss: 0.9306 - accuracy: 0.4560 - val_loss: 0.8415 - val_accuracy: 0.4948\n",
      "Epoch 2/30\n",
      "54/54 [==============================] - 59s 1s/step - loss: 0.8781 - accuracy: 0.5897 - val_loss: 0.6632 - val_accuracy: 0.7188\n",
      "Epoch 3/30\n",
      "54/54 [==============================] - 59s 1s/step - loss: 0.6125 - accuracy: 0.7431 - val_loss: 0.7709 - val_accuracy: 0.6875\n",
      "Epoch 4/30\n",
      "54/54 [==============================] - 58s 1s/step - loss: 0.5106 - accuracy: 0.7876 - val_loss: 0.3843 - val_accuracy: 0.8594\n",
      "Epoch 5/30\n",
      "54/54 [==============================] - 65s 1s/step - loss: 0.3899 - accuracy: 0.8362 - val_loss: 0.2957 - val_accuracy: 0.8802\n",
      "Epoch 6/30\n",
      "54/54 [==============================] - 55s 1s/step - loss: 0.3053 - accuracy: 0.8785 - val_loss: 0.2604 - val_accuracy: 0.9010\n",
      "Epoch 7/30\n",
      "54/54 [==============================] - 35s 654ms/step - loss: 0.2312 - accuracy: 0.9057 - val_loss: 0.3647 - val_accuracy: 0.8594\n",
      "Epoch 8/30\n",
      "54/54 [==============================] - 37s 691ms/step - loss: 0.1978 - accuracy: 0.9219 - val_loss: 0.2109 - val_accuracy: 0.9167\n",
      "Epoch 9/30\n",
      "54/54 [==============================] - 38s 699ms/step - loss: 0.2115 - accuracy: 0.9167 - val_loss: 0.1876 - val_accuracy: 0.9323\n",
      "Epoch 10/30\n",
      "54/54 [==============================] - 40s 744ms/step - loss: 0.1648 - accuracy: 0.9375 - val_loss: 0.4505 - val_accuracy: 0.8594\n",
      "Epoch 11/30\n",
      "54/54 [==============================] - 39s 719ms/step - loss: 0.1592 - accuracy: 0.9323 - val_loss: 0.2512 - val_accuracy: 0.9062\n",
      "Epoch 12/30\n",
      "54/54 [==============================] - 42s 785ms/step - loss: 0.1266 - accuracy: 0.9508 - val_loss: 0.5078 - val_accuracy: 0.8385\n",
      "Epoch 13/30\n",
      "54/54 [==============================] - 36s 672ms/step - loss: 0.1462 - accuracy: 0.9427 - val_loss: 0.3624 - val_accuracy: 0.9115\n",
      "Epoch 14/30\n",
      "54/54 [==============================] - 38s 710ms/step - loss: 0.1099 - accuracy: 0.9560 - val_loss: 0.2514 - val_accuracy: 0.9271\n",
      "Epoch 15/30\n",
      "54/54 [==============================] - 36s 665ms/step - loss: 0.1779 - accuracy: 0.9334 - val_loss: 0.1983 - val_accuracy: 0.9323\n",
      "Epoch 16/30\n",
      "54/54 [==============================] - 35s 657ms/step - loss: 0.0921 - accuracy: 0.9635 - val_loss: 0.2053 - val_accuracy: 0.9531\n",
      "Epoch 17/30\n",
      "54/54 [==============================] - 42s 776ms/step - loss: 0.0842 - accuracy: 0.9659 - val_loss: 0.2711 - val_accuracy: 0.9115\n",
      "Epoch 18/30\n",
      "54/54 [==============================] - 42s 772ms/step - loss: 0.0742 - accuracy: 0.9751 - val_loss: 0.2433 - val_accuracy: 0.9115\n",
      "Epoch 19/30\n",
      "54/54 [==============================] - 40s 747ms/step - loss: 0.0957 - accuracy: 0.9653 - val_loss: 0.1368 - val_accuracy: 0.9688\n",
      "Epoch 20/30\n",
      "54/54 [==============================] - 43s 805ms/step - loss: 0.0510 - accuracy: 0.9809 - val_loss: 0.2057 - val_accuracy: 0.9375\n",
      "Epoch 21/30\n",
      "54/54 [==============================] - 44s 807ms/step - loss: 0.0585 - accuracy: 0.9792 - val_loss: 0.1659 - val_accuracy: 0.9323\n",
      "Epoch 22/30\n",
      "54/54 [==============================] - 41s 753ms/step - loss: 0.0527 - accuracy: 0.9815 - val_loss: 0.1632 - val_accuracy: 0.9583\n",
      "Epoch 23/30\n",
      "54/54 [==============================] - 37s 685ms/step - loss: 0.0559 - accuracy: 0.9815 - val_loss: 0.4517 - val_accuracy: 0.8698\n",
      "Epoch 24/30\n",
      "54/54 [==============================] - 36s 675ms/step - loss: 0.0619 - accuracy: 0.9728 - val_loss: 0.5869 - val_accuracy: 0.8802\n",
      "Epoch 25/30\n",
      "54/54 [==============================] - 39s 725ms/step - loss: 0.1385 - accuracy: 0.9566 - val_loss: 0.1592 - val_accuracy: 0.9583\n",
      "Epoch 26/30\n",
      "54/54 [==============================] - 42s 769ms/step - loss: 0.0458 - accuracy: 0.9838 - val_loss: 0.3088 - val_accuracy: 0.8958\n",
      "Epoch 27/30\n",
      "54/54 [==============================] - 37s 689ms/step - loss: 0.0481 - accuracy: 0.9815 - val_loss: 0.0868 - val_accuracy: 0.9583\n",
      "Epoch 28/30\n",
      "54/54 [==============================] - 43s 807ms/step - loss: 0.0280 - accuracy: 0.9896 - val_loss: 0.1376 - val_accuracy: 0.9531\n",
      "Epoch 29/30\n",
      "54/54 [==============================] - 45s 842ms/step - loss: 0.0473 - accuracy: 0.9844 - val_loss: 0.0495 - val_accuracy: 0.9896\n",
      "Epoch 30/30\n",
      "54/54 [==============================] - 46s 854ms/step - loss: 0.0380 - accuracy: 0.9919 - val_loss: 0.1132 - val_accuracy: 0.9583\n"
     ]
    }
   ],
   "source": [
    "history = model.fit(\n",
    "   train_ds,\n",
    "   epochs = EPOCHS,\n",
    "   batch_size = BATCH_SIZE,\n",
    "   verbose = 1,\n",
    "   validation_data = val_ds\n",
    ")"
   ]
  },
  {
   "cell_type": "code",
   "execution_count": 54,
   "id": "807fc417",
   "metadata": {},
   "outputs": [
    {
     "name": "stdout",
     "output_type": "stream",
     "text": [
      "8/8 [==============================] - 3s 236ms/step - loss: 0.1289 - accuracy: 0.9612\n"
     ]
    }
   ],
   "source": [
    "scores = model.evaluate(test_ds)"
   ]
  },
  {
   "cell_type": "code",
   "execution_count": 55,
   "id": "31f70a37",
   "metadata": {},
   "outputs": [
    {
     "data": {
      "text/plain": [
       "[0.1289280205965042, 0.9612069129943848]"
      ]
     },
     "execution_count": 55,
     "metadata": {},
     "output_type": "execute_result"
    }
   ],
   "source": [
    "scores"
   ]
  },
  {
   "cell_type": "code",
   "execution_count": 56,
   "id": "da1651c1",
   "metadata": {},
   "outputs": [
    {
     "data": {
      "text/plain": [
       "<keras.callbacks.History at 0x20c0fdbec40>"
      ]
     },
     "execution_count": 56,
     "metadata": {},
     "output_type": "execute_result"
    }
   ],
   "source": [
    "history"
   ]
  },
  {
   "cell_type": "code",
   "execution_count": 57,
   "id": "350f68d7",
   "metadata": {},
   "outputs": [
    {
     "data": {
      "text/plain": [
       "{'verbose': 1, 'epochs': 30, 'steps': 54}"
      ]
     },
     "execution_count": 57,
     "metadata": {},
     "output_type": "execute_result"
    }
   ],
   "source": [
    "history.params"
   ]
  },
  {
   "cell_type": "code",
   "execution_count": 58,
   "id": "d2141b68",
   "metadata": {},
   "outputs": [
    {
     "data": {
      "text/plain": [
       "dict_keys(['loss', 'accuracy', 'val_loss', 'val_accuracy'])"
      ]
     },
     "execution_count": 58,
     "metadata": {},
     "output_type": "execute_result"
    }
   ],
   "source": [
    "history.history.keys()"
   ]
  },
  {
   "cell_type": "code",
   "execution_count": 59,
   "id": "706c2ad8",
   "metadata": {},
   "outputs": [],
   "source": [
    "import numpy as np"
   ]
  },
  {
   "cell_type": "code",
   "execution_count": 60,
   "id": "6135d57b",
   "metadata": {},
   "outputs": [
    {
     "name": "stdout",
     "output_type": "stream",
     "text": [
      "actual_label: Potato___Early_blight\n",
      "1/1 [==============================] - 0s 296ms/step\n",
      "predicted label: Potato___Early_blight\n"
     ]
    }
   ],
   "source": [
    "for images_batch, labels_batch in test_ds.take(1):\n",
    "    first_label = labels_batch[0].numpy()\n",
    "    print(\"actual_label:\" , class_names[first_label])\n",
    "    batch_prediction = model.predict(images_batch)\n",
    "    print(\"predicted label:\",class_names[np.argmax(batch_prediction[0])])"
   ]
  },
  {
   "cell_type": "code",
   "execution_count": 61,
   "id": "025c8c0a",
   "metadata": {},
   "outputs": [],
   "source": [
    "def predict(model, img):\n",
    "    img_array = tf.keras.preprocessing.image.img_to_array(images[i].numpy())\n",
    "    img_array = tf.expand_dims(img_array, 0)\n",
    "    \n",
    "    predictions = model.predict(img_array)\n",
    "    \n",
    "    predicted_class = class_names[np.argmax(predictions[0])]\n",
    "    confidence = round(100 * (np.max(predictions[0])),2)\n",
    "    return predicted_class, confidence"
   ]
  },
  {
   "cell_type": "code",
   "execution_count": 62,
   "id": "0f3016f2",
   "metadata": {},
   "outputs": [
    {
     "name": "stdout",
     "output_type": "stream",
     "text": [
      "1/1 [==============================] - 0s 51ms/step\n",
      "Actual: Potato___Late_blight,\n",
      " Predicted:Potato___Late_blight, \n",
      " Confidence: 99.58%\n",
      "1/1 [==============================] - 0s 41ms/step\n",
      "Actual: Potato___Early_blight,\n",
      " Predicted:Potato___Early_blight, \n",
      " Confidence: 93.39%\n",
      "1/1 [==============================] - 0s 51ms/step\n",
      "Actual: Potato___Late_blight,\n",
      " Predicted:Potato___Late_blight, \n",
      " Confidence: 99.68%\n",
      "1/1 [==============================] - 0s 48ms/step\n",
      "Actual: Potato___Late_blight,\n",
      " Predicted:Potato___Late_blight, \n",
      " Confidence: 100.0%\n",
      "1/1 [==============================] - 0s 64ms/step\n",
      "Actual: Potato___Late_blight,\n",
      " Predicted:Potato___Late_blight, \n",
      " Confidence: 99.88%\n",
      "1/1 [==============================] - 0s 48ms/step\n",
      "Actual: Potato___Early_blight,\n",
      " Predicted:Potato___Early_blight, \n",
      " Confidence: 100.0%\n",
      "1/1 [==============================] - 0s 48ms/step\n",
      "Actual: Potato___Late_blight,\n",
      " Predicted:Potato___Late_blight, \n",
      " Confidence: 99.9%\n",
      "1/1 [==============================] - 0s 72ms/step\n",
      "Actual: Potato___Late_blight,\n",
      " Predicted:Potato___Late_blight, \n",
      " Confidence: 65.26%\n",
      "1/1 [==============================] - 0s 41ms/step\n",
      "Actual: Potato___Early_blight,\n",
      " Predicted:Potato___Early_blight, \n",
      " Confidence: 99.93%\n"
     ]
    }
   ],
   "source": [
    "# plt.figure(figsize(15,15))\n",
    "for images, labels in test_ds.take(1):\n",
    "    for i in range(9):\n",
    "#         ax = plt.subplot(3,3,i+1)\n",
    "#         plt.imshow(images[i].numpy().astype(\"uint8\"))\n",
    "        predicted_class, confidence = predict(model, images[i].numpy())\n",
    "        actual_class = class_names[labels[i]]\n",
    "        \n",
    "        print(f\"Actual: {actual_class},\\n Predicted:{predicted_class}, \\n Confidence: {confidence}%\")\n",
    "#         plt.axis(\"off\")"
   ]
  },
  {
   "cell_type": "code",
   "execution_count": 63,
   "id": "65af1f56",
   "metadata": {},
   "outputs": [
    {
     "name": "stderr",
     "output_type": "stream",
     "text": [
      "WARNING:absl:Found untraced functions such as _jit_compiled_convolution_op, _jit_compiled_convolution_op, _jit_compiled_convolution_op, _jit_compiled_convolution_op, _jit_compiled_convolution_op while saving (showing 5 of 6). These functions will not be directly callable after loading.\n"
     ]
    },
    {
     "name": "stdout",
     "output_type": "stream",
     "text": [
      "INFO:tensorflow:Assets written to: ../models/3\\assets\n"
     ]
    },
    {
     "name": "stderr",
     "output_type": "stream",
     "text": [
      "INFO:tensorflow:Assets written to: ../models/3\\assets\n"
     ]
    }
   ],
   "source": [
    "import os \n",
    "# model_version=0\n",
    "model_version = max([int(i) for i in os.listdir(\"../models\")+[0]])+1\n",
    "model.save(f\"../models/{model_version}\")"
   ]
  },
  {
   "cell_type": "code",
   "execution_count": null,
   "id": "d8fb4b7e",
   "metadata": {},
   "outputs": [],
   "source": []
  }
 ],
 "metadata": {
  "kernelspec": {
   "display_name": "Python 3 (ipykernel)",
   "language": "python",
   "name": "python3"
  },
  "language_info": {
   "codemirror_mode": {
    "name": "ipython",
    "version": 3
   },
   "file_extension": ".py",
   "mimetype": "text/x-python",
   "name": "python",
   "nbconvert_exporter": "python",
   "pygments_lexer": "ipython3",
   "version": "3.9.13"
  }
 },
 "nbformat": 4,
 "nbformat_minor": 5
}
